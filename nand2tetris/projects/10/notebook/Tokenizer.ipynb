{
 "cells": [
  {
   "cell_type": "markdown",
   "metadata": {},
   "source": [
    "# トークン化モジュール(Tokenizer)  \n",
    "* xxx.jack -> xxxT.xmlに変換する  \n",
    "* jackソースをトークン単位に分解する  \n",
    "* 解析は別モジュール\n",
    "\n",
    "## 字句要素  \n",
    "\n",
    "|word|value|\n",
    "|:-|:-|\n",
    "|keyword|'class', 'constructor', 'function', 'method', 'field', 'static', 'var', 'int', 'char', 'boolean', 'void', 'true', 'false', 'null', 'this', 'let', 'do', 'if', 'else', 'while', 'return'|\n",
    "|symbol|'{', '}', '(', ')', '\\[', '\\]', '.', '\\,', ';', '+', '-', '\\*', '/', '&', '\\|', '<', '>', '=', '~' |\n",
    "|integerConstant|0から32767までの10進数の数字|\n",
    "|stringConstant|ダブルクォートと改行文字を含まないユニコードの文字列|\n",
    "|identifier|アルファベット、数字、アンダースコアの文字列。ただし数字から始まる文字列は除く|\n"
   ]
  },
  {
   "cell_type": "markdown",
   "metadata": {},
   "source": [
    "## トークン生成クラス"
   ]
  },
  {
   "cell_type": "code",
   "execution_count": 40,
   "metadata": {},
   "outputs": [
    {
     "name": "stdout",
     "output_type": "stream",
     "text": [
      "True ['function', 'void', 'test', '(', ')', '{'] [['<keyword> function </keyword>\\n', '<keyword> void </keyword>\\n', '<identifier> test </identifier>\\n', '<symbol> ( </symbol>\\n', '<symbol> ) </symbol>\\n', '<symbol> { </symbol>\\n']]\n"
     ]
    }
   ],
   "source": [
    "class createToken:\n",
    "    tupleKeyword = ('class', 'constructor', 'function', 'method', 'field', 'static', 'var', 'int', 'char', 'boolean', 'void', 'true', 'false', 'null', 'this', 'let', 'do', 'if', 'else', 'while', 'return')\n",
    "    tupleSymbol = ('{', '}', '(', ')', '[', ']', '.', ',', ';', '+', '-', '*', '/', '&', '|', '<', '>', '=', '~', )\n",
    "\n",
    "    xmlKeyword = \"<keyword> @ </keyword>\\n\"\n",
    "    xmlSymbol = \"<symbol> @ </symbol>\\n\"\n",
    "    xmlIntegerConstant = \"<integerConstant> @ </integerConstant>\\n\"\n",
    "    xmlStringConstant = \"<stringConstant> @ </stringConstant>\\n\"\n",
    "    xmlIdentifier = \"<identifier> @ </identifier>\\n\"\n",
    "\n",
    "    def __init__(self):\n",
    "        pass\n",
    "    \n",
    "    def devideSymbol(self, code):\n",
    "        '''symbolを見つけてばらしてリストを返す'''\n",
    "        # 空白で分ける\n",
    "        codes = code.split(' ')\n",
    "        tokens = list()\n",
    "        for code in codes:\n",
    "            t = \"\"\n",
    "            for c in code:\n",
    "                # 1文字ずつチェックしてSymbolを探す\n",
    "                if c in self.tupleSymbol:\n",
    "                    if len(t) > 0:\n",
    "                        tokens.append(t)\n",
    "                    tokens.append(c)\n",
    "                    t = \"\"                \n",
    "                else:\n",
    "                    t += c\n",
    "            if len(t) > 0:\n",
    "                tokens.append(t)\n",
    "        return tokens\n",
    "    \n",
    "    def getTokens(self, code):\n",
    "        '''jackファイルの1行をトークンに分ける'''\n",
    "        # コメントを削除        \n",
    "        # 余計な空白を削除\n",
    "        code = code.replace('/*', '//')\n",
    "        code = code.replace('\\n', '')\n",
    "        code = code.replace('  ', ' ')\n",
    "        # コメント、空白行は処理しない\n",
    "        if '//' in code[0:2]:\n",
    "            return False, \"\"\n",
    "        if len(code) == 0:\n",
    "            return False, \"\"\n",
    "        # コードの後ろにあるコメントを削除\n",
    "        if '//' in code:\n",
    "            code = code.split('/')[0]        \n",
    "        # ダブルクォートあり -> 挟まれているところはスペース含めてStringConstant\n",
    "        tmpCodes = code.split('\\\"')\n",
    "        tokens = list()\n",
    "        xmls = list()\n",
    "        if len(tmpCodes) == 3:\n",
    "            # ダブルクォート前\n",
    "            codes = self.devideSymbol(tmpCodes[0])\n",
    "            tokens = codes\n",
    "            xmls += self.getXml(codes)\n",
    "            # ダブルクォート内\n",
    "            codes = tmpCodes[1]\n",
    "            tokens.append(codes)\n",
    "            xmls.append(self.xmlStringConstant.replace(\"@\", codes))\n",
    "            # ダブルクォート後\n",
    "            codes = self.devideSymbol(tmpCodes[2])\n",
    "            tokens += codes\n",
    "            xmls += self.getXml(codes)\n",
    "        else:\n",
    "            tokens = self.devideSymbol(tmpCodes[0])\n",
    "            xmls.append(self.getXml(tokens))\n",
    "                    \n",
    "        return True, tokens, xmls\n",
    "\n",
    "    def getXml(self, tokens):\n",
    "        '''トークンをxml形式に変換する。stringConstantは'''\n",
    "        xmls = list()\n",
    "        for t in tokens:\n",
    "            # Keyword\n",
    "            if t in self.tupleKeyword:\n",
    "                xmls.append(self.xmlKeyword.replace(\"@\", t))\n",
    "                continue\n",
    "            # Symbol\n",
    "            if t in self.tupleSymbol:\n",
    "                xmls.append(self.xmlSymbol.replace(\"@\", t))\n",
    "                continue\n",
    "            # integerConstant\n",
    "            if t.isnumeric():\n",
    "                xmls.append(self.xmlIntegerConstant.replace(\"@\", t))\n",
    "                continue                \n",
    "            # identifier\n",
    "            xmls.append(self.xmlIdentifier.replace(\"@\", t))\n",
    "            \n",
    "        return xmls\n",
    "        \n",
    "if __name__ == \"__main__\":\n",
    "    ct = createToken()\n",
    "    isGet, tokens, xmls = ct.getTokens('    function void test() {  // Added to test Jack syntax that is not use in\\n')\n",
    "    print(isGet, tokens, xmls)\n",
    "        \n",
    "    "
   ]
  },
  {
   "cell_type": "markdown",
   "metadata": {},
   "source": [
    "## ファイル生成"
   ]
  },
  {
   "cell_type": "code",
   "execution_count": null,
   "metadata": {},
   "outputs": [],
   "source": []
  }
 ],
 "metadata": {
  "kernelspec": {
   "display_name": "Python 3",
   "language": "python",
   "name": "python3"
  },
  "language_info": {
   "codemirror_mode": {
    "name": "ipython",
    "version": 3
   },
   "file_extension": ".py",
   "mimetype": "text/x-python",
   "name": "python",
   "nbconvert_exporter": "python",
   "pygments_lexer": "ipython3",
   "version": "3.7.6"
  }
 },
 "nbformat": 4,
 "nbformat_minor": 4
}
