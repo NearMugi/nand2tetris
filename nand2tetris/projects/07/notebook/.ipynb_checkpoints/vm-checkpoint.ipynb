{
 "cells": [
  {
   "cell_type": "markdown",
   "metadata": {},
   "source": [
    "# VM変換器  \n",
    ".vmファイル(群)を.asmファイルに変換する"
   ]
  },
  {
   "cell_type": "markdown",
   "metadata": {},
   "source": [
    "## 仕様  \n",
    "\n",
    "### コマンドの種類  \n",
    "|||\n",
    "|:--|:--|  \n",
    "|算術コマンド|スタック上で算術演算と論理演算を行う|\n",
    "|メモリアクセスコマンド|スタックとバーチャルメモリ領域の間でデータの転送を行う|\n",
    "|プログラムフローコマンド|条件付き分岐処理または無条件の分岐処理を行う|\n",
    "|関数呼び出しコマンド|関数呼び出しとそれらからのリターンを行う|\n",
    "\n",
    "\n",
    "### コマンドの構成  \n",
    "・VMコマンドのフォーマットは3パターン  \n",
    "* command   \n",
    "* command arg   \n",
    "* command arg1 arg2  \n",
    "\n",
    "・コメントは\"//\" \"//\"以降無視する。  \n",
    "・空白は無視する。  \n",
    "・trueは\"-1\"、falseは\"0\"\n",
    "\n"
   ]
  },
  {
   "cell_type": "markdown",
   "metadata": {},
   "source": [
    "### 算術コマンド  \n",
    "\n",
    "|コマンド|戻り値|コメント|\n",
    "|:--:|:--|:--|\n",
    "|add|x+y|D=D+M|\n",
    "|sub|x-y|D=D-M|\n",
    "|neg|-y|M=-M|\n",
    "|eq|x=yのときtrue、それ以外false|D;JEQ|\n",
    "|gt|x>yのときtrue、それ以外false|D;JGT|\n",
    "|lt|x<yのときtrue、それ以外false|D;JLT|\n",
    "|and|x And y|D=D&M|\n",
    "|or|x Or y|D=D\\|M|\n",
    "|not|Not y|!M|\n",
    "\n",
    "コマンドごとに書き方は決まっている。基本形を定義して必要に応じて差し替える。"
   ]
  },
  {
   "cell_type": "code",
   "execution_count": 16,
   "metadata": {
    "tags": []
   },
   "outputs": [],
   "source": [
    "class arithmeticCommand():\n",
    "    '''算術コマンドの変換'''\n",
    "\n",
    "    def __init__(self):\n",
    "        # 変数2個のパターン \n",
    "        # 1. SPアドレスを取得 -> 2つ戻る -> 値取得 \n",
    "        # 2. 算術\n",
    "        # 3. SPアドレスを1つ戻す -> 値を2つ戻したところに保存する\n",
    "        cmdArg2_H = \"@SP\\nA=M\\nA=A-1\\nA=A-1\\nD=M\\nA=A+1\\n\"\n",
    "        cmdArg2_F = \"@SP\\nM=M-1\\nA=M\\nA=A-1\\nM=D\\n\"\n",
    "\n",
    "        # 条件付き分岐のパターン\n",
    "        cmdBunki_H = \"D=D-M\\n@BUNKI_TRUE_000\\n\"\n",
    "        cmdBunki_F = \"D=0\\n@BUNKI_END_000\\n0;JMP\\n(BUNKI_TRUE_000)\\nD=-1\\n(BUNKI_END_000)\\n\"        \n",
    "\n",
    "        # 変数1個のパターン\n",
    "        # 1. SPアドレスを取得 -> 1つ戻る \n",
    "        # 2. 算術\n",
    "        # ※SPアドレスは変化しない。\n",
    "        cmdArg1 = \"@SP\\nA=M\\nA=A-1\\n\"\n",
    "\n",
    "        cmdAdd = cmdArg2_H + \"D=D+M\\n\" + cmdArg2_F\n",
    "        cmdSub = cmdArg2_H + \"D=D-M\\n\" + cmdArg2_F\n",
    "        cmdNeg = cmdArg1 + \"M=-M\\n\"\n",
    "        cmdEq = cmdArg2_H + cmdBunki_H + \"D;JEQ\\n\" + cmdBunki_F + cmdArg2_F\n",
    "        cmdGt = cmdArg2_H + cmdBunki_H + \"D;JGT\\n\" + cmdBunki_F + cmdArg2_F\n",
    "        cmdLt = cmdArg2_H + cmdBunki_H + \"D;JLT\\n\" + cmdBunki_F + cmdArg2_F\n",
    "        cmdAnd = cmdArg2_H + \"D=D&M\\n\" + cmdArg2_F\n",
    "        cmdOr = cmdArg2_H + \"D=D|M\\n\" + cmdArg2_F\n",
    "        cmdNot = cmdArg1 + \"M=!M\\n\"\n",
    "\n",
    "        tmpList = [\n",
    "            [\"add\", cmdAdd],\n",
    "            [\"sub\", cmdSub],\n",
    "            [\"neg\", cmdNeg],\n",
    "            [\"eq\", cmdEq],\n",
    "            [\"gt\", cmdGt],\n",
    "            [\"lt\", cmdLt],\n",
    "            [\"and\", cmdAnd],\n",
    "            [\"or\", cmdOr],\n",
    "            [\"not\", cmdNot],\n",
    "        ]\n",
    "        self.dict = dict(tmpList)\n",
    "        self.idx = 0\n",
    "\n",
    "    def isExist(self, ptn):\n",
    "        '''存在するかチェックする'''\n",
    "        return ptn in self.dict\n",
    "    \n",
    "    def get(self, ptn):\n",
    "        '''コマンドを取得する。存在しない場合は空白'''\n",
    "        retValue = ''\n",
    "        isExist = self.isExist(ptn)\n",
    "        if isExist:\n",
    "            retValue = self.dict[ptn]\n",
    "            # 分岐で使うシンボルが一意になるようにrename\n",
    "            if ptn == \"eq\" or ptn == \"gt\" or ptn == \"lt\":\n",
    "                retValue = retValue.replace(\"000\", format(self.idx, '03x'))\n",
    "                self.idx += 1\n",
    "        return isExist, retValue     \n",
    "\n",
    "if __name__ != '__main__':\n",
    "    ac = arithmeticCommand()\n",
    "    isGet, cmd = ac.get(\"eq\")\n",
    "    print(cmd)\n",
    "    isGet, cmd = ac.get(\"lt\")\n",
    "    print(cmd)\n"
   ]
  },
  {
   "cell_type": "markdown",
   "metadata": {},
   "source": [
    "### メモリアクセスコマンド  \n",
    "\n"
   ]
  },
  {
   "cell_type": "code",
   "execution_count": 26,
   "metadata": {
    "tags": []
   },
   "outputs": [
    {
     "name": "stdout",
     "output_type": "stream",
     "text": [
      "@hoge.7\n",
      "D=M\n",
      "@SP\n",
      "A=M\n",
      "M=D\n",
      "@SP\n",
      "M=M+1\n"
     ]
    }
   ],
   "source": [
    "class memoryAccessCommand():\n",
    "    '''メモリアクセスコマンドの変換'''\n",
    "\n",
    "    def __init__(self):\n",
    "        # Push パターン\n",
    "        # 1. index値をセット\n",
    "        # 2. 取得元のアドレスを取得\n",
    "        # 3. スタックに追加 -> SPを1つ進ませる\n",
    "        cmdPush_H = \"@INDEX\\nD=A\\n\"\n",
    "        cmdPush_F = \"@SP\\nA=M\\nM=D\\n@SP\\nM=M+1\\n\"\n",
    "\n",
    "        tmpPushList = [\n",
    "            [\"argument\", cmdPush_H + \"@ARG\\nA=D+M\\nD=M\\n\" + cmdPush_F],\n",
    "            [\"local\", cmdPush_H + \"@LCL\\nA=D+M\\nD=M\\n\" + cmdPush_F],\n",
    "            [\"static\", cmdPush_H + \"@FN.INDEX\\nA=D+A\\nD=M\\n\" + cmdPush_F],\n",
    "            [\"constant\", cmdPush_H + cmdPush_F],\n",
    "            [\"this\", cmdPush_H + \"@THIS\\nA=D+M\\nD=M\\n\" + cmdPush_F],\n",
    "            [\"that\", cmdPush_H + \"@THAT\\nA=D+M\\nD=M\\n\" + cmdPush_F],\n",
    "            [\"pointer\", cmdPush_H + \"@3\\nA=D+A\\nD=M\\n\" + cmdPush_F],\n",
    "            [\"temp\", cmdPush_H + \"@5\\nA=D+A\\nD=M\\n\" + cmdPush_F],\n",
    "        ]\n",
    "        self.dictPush = dict(tmpPushList)\n",
    "\n",
    "        # Pop パターン\n",
    "        # 1. baseアドレスを取得 -> index分加算 -> スタックに保存\n",
    "        # 2. SPを1つ戻す -> スタックデータを取得 -> 1.のアドレスにデータをセット\n",
    "        # 3. SPを1つ戻す\n",
    "        cmdPop = \"@INDEX\\nD=D+A\\n@SP\\nA=M\\nM=D\\n\"\n",
    "        cmdPop += \"@SP\\nA=M\\nA=A-1\\nD=M\\nA=A+1\\nA=M\\nM=D\\n\"\n",
    "        cmdPop += \"@SP\\nM=M-1\\n\"\n",
    "\n",
    "        tmpPopList = [\n",
    "            [\"argument\", \"@ARG\\nD=M\\n\" + cmdPop],\n",
    "            [\"local\", \"@LCL\\nD=M\\n\" + cmdPop],\n",
    "            [\"static\", \"@FN.INDEX\\nD=A\\n\" + cmdPop],\n",
    "            [\"constant\", \"D=0\\n\" + cmdPop],\n",
    "            [\"this\", \"@THIS\\nD=M\\n\" + cmdPop],\n",
    "            [\"that\", \"@THAT\\nD=M\\n\" + cmdPop],\n",
    "            [\"pointer\", \"@3\\nD=A\\n\" + cmdPop],\n",
    "            [\"temp\", \"@5\\nD=A\\n\" + cmdPop],\n",
    "        ]\n",
    "        self.dictPop = dict(tmpPopList)\n",
    "\n",
    "    def isExist(self, ptn):\n",
    "        '''存在するかチェックする'''\n",
    "        return ptn in self.dictPush\n",
    "    \n",
    "    def get(self, ptn, seg, index, fn):\n",
    "        '''コマンドを取得する。存在しない場合は空白'''\n",
    "        retValue = ''\n",
    "        isExist = self.isExist(seg)\n",
    "        if isExist:\n",
    "            if ptn == 'push':   \n",
    "                retValue = self.dictPush[seg]\n",
    "            if ptn == 'pop':\n",
    "                retValue = self.dictPop[seg]\n",
    "            retValue = retValue.replace('INDEX', index).replace('FN', fn)\n",
    "        return isExist, retValue     \n",
    "\n",
    "if __name__ != '__main__':\n",
    "    mac = memoryAccessCommand()\n",
    "    ptn, seg, index, fn = (\"push\", \"static\", \"7\", \"hoge\")\n",
    "    isGet, cmd = mac.get(ptn, seg, index, fn)\n",
    "    print(cmd)"
   ]
  },
  {
   "cell_type": "markdown",
   "metadata": {},
   "source": [
    "### パース"
   ]
  },
  {
   "cell_type": "code",
   "execution_count": 39,
   "metadata": {
    "tags": []
   },
   "outputs": [
    {
     "name": "stdout",
     "output_type": "stream",
     "text": [
      "(True, '@7\\nD=A\\n@SP\\nA=M\\nM=D\\n@SP\\nM=M+1')\n",
      "(True, '@SP\\nA=M\\nA=A-1\\nA=A-1\\nD=M\\nA=A+1\\nD=D+M\\n@SP\\nM=M-1\\nA=M\\nA=A-1\\nM=D\\n')\n"
     ]
    }
   ],
   "source": [
    "import re\n",
    "def parse(ac, mac, l, fn):\n",
    "    '''1行分のデータを解析してasmコマンドを返す  \n",
    "    ac : 算術コマンドクラス\n",
    "    mac : メモリアクセスコマンドクラス\n",
    "    l : 入力データ(1行分)\n",
    "    fn : 出力ファイル名 (メモリアクセスコマンドのstaticで使用)\n",
    "    '''\n",
    "    # 改行を削除・2文字以上の空白を1文字に変換・コメント行を削除\n",
    "    l = l.replace('\\n', '')\n",
    "    l = l.replace('  ', ' ')\n",
    "    l = re.sub('//*', '', l)\n",
    "\n",
    "    cmd = l.split(' ')\n",
    "    isGet = False\n",
    "    retCmd = ''\n",
    "    if len(cmd) == 1:\n",
    "        isGet, retCmd = ac.get(cmd[0])\n",
    "\n",
    "    if len(cmd) == 2:\n",
    "        pass\n",
    "\n",
    "    if len(cmd) == 3:\n",
    "        isGet, retCmd = mac.get(cmd[0], cmd[1], cmd[2], fn)\n",
    "\n",
    "    return isGet, retCmd\n",
    "\n",
    "if __name__ != '__main__':\n",
    "    ac = arithmeticCommand()\n",
    "    mac = memoryAccessCommand()\n",
    "    fn = \"hoge\"    \n",
    "    l = \"push constant 7\\n\"\n",
    "    print(parse(ac, mac, l, fn))\n",
    "\n",
    "    l = \"add\\n\"\n",
    "    print(parse(ac, mac, l, fn))\n"
   ]
  },
  {
   "cell_type": "code",
   "execution_count": 1,
   "metadata": {
    "tags": []
   },
   "outputs": [
    {
     "name": "stdout",
     "output_type": "stream",
     "text": [
      "False\n"
     ]
    }
   ],
   "source": [
    "import sys\n",
    "import re\n",
    "def main(inputFn):\n",
    "    '''アセンブラファイル(.asm)に変換する'''\n",
    "    outputFn = inputFn.replace('.vm', '.asm')\n",
    "    if not '.asm' in outputFn:\n",
    "        return False\n",
    "    \n",
    "    ac = arithmeticCommand()\n",
    "    mac = memoryAccessCommand()\n",
    "    fn = outputFn.replace('.asm', '')\n",
    "    fn = fn.split('/')\n",
    "    fn = fn[len(fn)-1]\n",
    "\n",
    "    with open(outputFn, 'w') as fout:\n",
    "        with open(inputFn, 'r') as fin:\n",
    "            lines = fin.readlines()\n",
    "            for l in lines:\n",
    "                isGet, tmpList = parse(ac, mac, l, fn)\n",
    "                if isGet:\n",
    "                    fout.write(tmpList)\n",
    "\n",
    "    return True\n",
    "\n",
    "if __name__ == '__main__':\n",
    "    fn = sys.argv[1]\n",
    "    isAssemble = main(fn)\n",
    "    print(isAssemble)"
   ]
  }
 ],
 "metadata": {
  "kernelspec": {
   "display_name": "Python 3",
   "language": "python",
   "name": "python3"
  },
  "language_info": {
   "codemirror_mode": {
    "name": "ipython",
    "version": 3
   },
   "file_extension": ".py",
   "mimetype": "text/x-python",
   "name": "python",
   "nbconvert_exporter": "python",
   "pygments_lexer": "ipython3",
   "version": "3.7.6"
  }
 },
 "nbformat": 4,
 "nbformat_minor": 4
}
